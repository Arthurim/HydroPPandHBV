{
 "cells": [
  {
   "cell_type": "markdown",
   "metadata": {},
   "source": [
    "# Hydro Power Plant Optimisation"
   ]
  },
  {
   "cell_type": "markdown",
   "metadata": {},
   "source": [
    "This Notebook aims at defining the optimisation of a Hydrow Power Plant"
   ]
  },
  {
   "cell_type": "markdown",
   "metadata": {},
   "source": [
    "We recall the different variables:\n",
    "    \n",
    "- $q(t)$ the flow that is ran\n",
    "- $S(t)$ the power spot price\n",
    "- $X(t)$ the level of the reservoir\n",
    "- $a(t)$ the inflow of water to the reservoir\n",
    "- $\\delta(t)$ the spilling, i.e. the water that leaves the reservoir if the production is at its maximum\n",
    "- $q_\\text{min}(t)$ and $q_\\text{max}(t)$ the daily bounds on flown quantities\n",
    "- $X_\\text{min}(t)$ the daily minimum of water in the reservoir\n",
    "- $X_\\text{end}$ the final water level minimum in reservoir"
   ]
  },
  {
   "cell_type": "code",
   "execution_count": 1,
   "metadata": {},
   "outputs": [],
   "source": [
    "import numpy as np\n",
    "import scipy.optimize as sco"
   ]
  },
  {
   "cell_type": "code",
   "execution_count": 2,
   "metadata": {},
   "outputs": [],
   "source": [
    "def objective(q):\n",
    "    \"\"\"\n",
    "    Returns the payoff of selling q for price s \n",
    "    \n",
    "    ------------------------------------------------------------\n",
    "    \n",
    "    Parameters:\n",
    "    \n",
    "    q, array - the quantity of water flown in m^3\n",
    "    s, array - prices in €/MWH\n",
    "    h, float - head (ie altitude of the water fall) in m\n",
    "    rho, float - density of water, = 1000kg/m^3\n",
    "    g , float - gravitational constant, = 9.81m/s^2\n",
    "    cf, float - conversion factor from Joule to MWH, =2.78 e-7\n",
    "    \n",
    "    \"\"\"\n",
    "    cf = 2.78e-7\n",
    "    g = 9.81\n",
    "    rho = 1000\n",
    "    \n",
    "    return -sum([x*y*h*rho*g*cf for x,y in zip(*[q,s])])"
   ]
  },
  {
   "cell_type": "code",
   "execution_count": 3,
   "metadata": {},
   "outputs": [],
   "source": [
    "\n",
    "\n",
    "def cons_periodicflow_min(q):\n",
    "    \"\"\"\n",
    "    Constraint on minimum flow during the period\n",
    "    \n",
    "    ------------------------------------------------------------\n",
    "    \n",
    "    Parameters:\n",
    "    \n",
    "    q, array - quantity of water flown\n",
    "    \n",
    "    \"\"\"\n",
    "    \n",
    "    return q.sum()-qpmin\n",
    "\n",
    "def cons_periodicflow_max(q):\n",
    "    \"\"\"\n",
    "    Constraint on minimum flow during the period\n",
    "    \n",
    "    ------------------------------------------------------------\n",
    "    \n",
    "    Parameters:\n",
    "    \n",
    "    q, array - quantity of water flown\n",
    "    \n",
    "    \"\"\"\n",
    "    return qpmax - q.sum()\n",
    "\n",
    "def cons_daily_reservoir_max(q):\n",
    "    \"\"\"\n",
    "    Constraint on daily maximum water level in reservoir\n",
    "    \n",
    "    ------------------------------------------------------------\n",
    "    \n",
    "    Parameters:\n",
    "    \n",
    "    q, array - quantity of water flown\n",
    "    \n",
    "    \"\"\"\n",
    "    \n",
    "    return np.array([x0+np.sum(a[:t+1])-np.sum(q[:t+1]) +xmax[t] for t in range(0,T)])\n",
    "\n",
    "def cons_daily_reservoir_min(q):\n",
    "    \"\"\"\n",
    "    Constraint on daily minimum water level in reservoir\n",
    "    \n",
    "    ------------------------------------------------------------\n",
    "    \n",
    "    Parameters:\n",
    "    \n",
    "    q, array - quantity of water flown\n",
    "    \n",
    "    \"\"\"\n",
    "    \n",
    "    return np.array([x0+np.sum(a[:t+1])-np.sum(q[:t+1]) -xmin[t] for t in range(0,T)])\n",
    "\n",
    "con1 = {'type':'ineq','fun':cons_periodicflow_min}\n",
    "con2 = {'type':'ineq','fun':cons_periodicflow_max}\n",
    "con3 = {'type':'ineq','fun':cons_daily_reservoir_min}\n",
    "con4 = {'type':'ineq','fun':cons_daily_reservoir_max}\n",
    "\n",
    "cons=[con1,con2,con3,con4]\n",
    "\n"
   ]
  },
  {
   "cell_type": "code",
   "execution_count": 4,
   "metadata": {},
   "outputs": [],
   "source": [
    "\n",
    "def HPP(q0,b,cons):\n",
    "    \"\"\"\n",
    "    Optimizes the Hydro Power Plant (HPP)\n",
    "    \n",
    "    \"\"\"\n",
    "    sol = sco.minimize(objective,q0,bounds=b,constraints=cons)\n",
    "    print(\"Payoff is :\", -round(sol.fun,2))\n",
    "    print(\"Optimal trajectory is :\", [round(q,2) for q in sol.x])\n",
    "    return sol"
   ]
  },
  {
   "cell_type": "code",
   "execution_count": 7,
   "metadata": {},
   "outputs": [],
   "source": [
    "# parameters\n",
    "a = [10 for i in range(50)]                          # inflows in the reservoir\n",
    "T = len(a)                                   # number of days\n",
    "q0 = np.zeros(T)                             # initial values for outflows\n",
    "s = np.array([10 for i in range(T)])         # spot price\n",
    "x0 = 100                                     # initial lvl of water in the reservoir\n",
    "x_max = 1000                                  # reservoir water capacity\n",
    "xmax = [x_max for i in range(T)]\n",
    "h=0.85\n",
    "\n",
    "# constraints        \n",
    "qpmax = 150                                  # Max quantity of water flown out from the reservoir over the period\n",
    "qpmin = 0                                    # Min quantity of water flown out from the reservoir over the period\n",
    "xmin = [50 for i in range(T)]                # Daily minimum lvl of water in the reservoir\n",
    "\n",
    "# bounds                 \n",
    "qmin = [0 for i in range(T)]                 # daily minimum of water flown out from the reservoir\n",
    "qmax = [50 for i in range(T)]                # daily minimum of water flown out from the reservoir\n",
    "b = [(qmin[t],qmax[t]) for t in range(T)]    # bounds using the above"
   ]
  },
  {
   "cell_type": "code",
   "execution_count": 8,
   "metadata": {},
   "outputs": [
    {
     "name": "stdout",
     "output_type": "stream",
     "text": [
      "Payoff is : 3.48\n",
      "Optimal trajectory is : [3.0, 3.0, 3.0, 3.0, 3.0, 3.0, 3.0, 3.0, 3.0, 3.0, 3.0, 3.0, 3.0, 3.0, 3.0, 3.0, 3.0, 3.0, 3.0, 3.0, 3.0, 3.0, 3.0, 3.0, 3.0, 3.0, 3.0, 3.0, 3.0, 3.0, 3.0, 3.0, 3.0, 3.0, 3.0, 3.0, 3.0, 3.0, 3.0, 3.0, 3.0, 3.0, 3.0, 3.0, 3.0, 3.0, 3.0, 3.0, 3.0, 3.0]\n"
     ]
    }
   ],
   "source": [
    "sol = sco.minimize(objective,q0,bounds=b,constraints=cons)\n",
    "print(\"Payoff is :\", -round(sol.fun,2))\n",
    "print(\"Optimal trajectory is :\", [round(q,2) for q in sol.x])"
   ]
  },
  {
   "cell_type": "code",
   "execution_count": 9,
   "metadata": {},
   "outputs": [
    {
     "name": "stdout",
     "output_type": "stream",
     "text": [
      "Payoff is : 3.48\n",
      "Optimal trajectory is : [3.0, 3.0, 3.0, 3.0, 3.0, 3.0, 3.0, 3.0, 3.0, 3.0, 3.0, 3.0, 3.0, 3.0, 3.0, 3.0, 3.0, 3.0, 3.0, 3.0, 3.0, 3.0, 3.0, 3.0, 3.0, 3.0, 3.0, 3.0, 3.0, 3.0, 3.0, 3.0, 3.0, 3.0, 3.0, 3.0, 3.0, 3.0, 3.0, 3.0, 3.0, 3.0, 3.0, 3.0, 3.0, 3.0, 3.0, 3.0, 3.0, 3.0]\n"
     ]
    },
    {
     "data": {
      "text/plain": [
       "     fun: -3.4771545000000024\n",
       "     jac: array([-0.02318102, -0.02318102, -0.02318102, -0.02318102, -0.02318102,\n",
       "       -0.02318102, -0.02318102, -0.02318102, -0.02318102, -0.02318102,\n",
       "       -0.02318102, -0.02318102, -0.02318102, -0.02318102, -0.02318102,\n",
       "       -0.02318102, -0.02318102, -0.02318102, -0.02318102, -0.02318102,\n",
       "       -0.02318102, -0.02318102, -0.02318102, -0.02318102, -0.02318102,\n",
       "       -0.02318102, -0.02318102, -0.02318102, -0.02318102, -0.02318102,\n",
       "       -0.02318105, -0.02318102, -0.02318102, -0.02318102, -0.02318102,\n",
       "       -0.02318102, -0.02318102, -0.02318102, -0.02318102, -0.02318102,\n",
       "       -0.02318102, -0.02318102, -0.02318102, -0.02318102, -0.02318102,\n",
       "       -0.02318102, -0.02318102, -0.02318102, -0.02318102, -0.02318105])\n",
       " message: 'Optimization terminated successfully.'\n",
       "    nfev: 260\n",
       "     nit: 5\n",
       "    njev: 5\n",
       "  status: 0\n",
       " success: True\n",
       "       x: array([3.00000004, 3.00000004, 3.00000004, 3.00000004, 3.00000004,\n",
       "       3.00000004, 3.00000004, 3.00000004, 2.99999998, 3.00000004,\n",
       "       2.99999998, 2.99999998, 2.99999998, 2.99999998, 2.99999998,\n",
       "       2.99999998, 2.99999998, 2.99999998, 2.99999998, 2.99999998,\n",
       "       2.99999998, 2.99999998, 2.99999998, 2.99999998, 2.99999998,\n",
       "       2.99999998, 2.99999998, 2.99999998, 2.99999998, 2.99999998,\n",
       "       3.00000004, 2.99999998, 2.99999998, 2.99999998, 2.99999998,\n",
       "       2.99999998, 2.99999998, 2.99999998, 2.99999998, 2.99999998,\n",
       "       2.99999998, 3.00000002, 3.00000002, 3.00000002, 3.00000002,\n",
       "       3.00000002, 3.00000002, 3.00000002, 3.00000005, 3.00000005])"
      ]
     },
     "execution_count": 9,
     "metadata": {},
     "output_type": "execute_result"
    }
   ],
   "source": [
    "HPP(q0,b,cons)"
   ]
  },
  {
   "cell_type": "code",
   "execution_count": null,
   "metadata": {},
   "outputs": [],
   "source": []
  }
 ],
 "metadata": {
  "kernelspec": {
   "display_name": "Python 3",
   "language": "python",
   "name": "python3"
  }
 },
 "nbformat": 4,
 "nbformat_minor": 2
}
