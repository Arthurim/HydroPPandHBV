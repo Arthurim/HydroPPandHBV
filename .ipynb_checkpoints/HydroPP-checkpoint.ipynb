{
 "cells": [
  {
   "cell_type": "markdown",
   "metadata": {},
   "source": [
    "# Hydro Power Plant Optimisation"
   ]
  },
  {
   "cell_type": "markdown",
   "metadata": {},
   "source": [
    "This Notebook aims at defining the optimisation of a Hydrow Power Plant"
   ]
  },
  {
   "cell_type": "markdown",
   "metadata": {},
   "source": [
    "We recall the different variables:\n",
    "    \n",
    "- $q(t)$ the flow that is ran\n",
    "- $S(t)$ the power spot price\n",
    "- $X(t)$ the level of the reservoir\n",
    "- $a(t)$ the inflow of water to the reservoir\n",
    "- $\\delta(t)$ the spilling, i.e. the water that leaves the reservoir if the production is at its maximum\n",
    "- $q_\\text{min}(t)$ and $q_\\text{max}(t)$ the daily bounds on flown quantities\n",
    "- $X_\\text{min}(t)$ the daily minimum of water in the reservoir\n",
    "- $X_\\text{end}$ the final water level minimum in reservoir"
   ]
  },
  {
   "cell_type": "code",
   "execution_count": 1,
   "metadata": {},
   "outputs": [],
   "source": [
    "import numpy as np\n",
    "import scipy.optimize as sco"
   ]
  },
  {
   "cell_type": "code",
   "execution_count": 2,
   "metadata": {},
   "outputs": [],
   "source": [
    "def objective(q):\n",
    "    \"\"\"\n",
    "    Returns the payoff of selling q for price s \n",
    "    \n",
    "    ------------------------------------------------------------\n",
    "    \n",
    "    Parameters:\n",
    "    \n",
    "    q, array - the quantity of water flown\n",
    "    s, array - prices\n",
    "    \n",
    "    \"\"\"\n",
    "    return -sumprod(q,s)"
   ]
  },
  {
   "cell_type": "code",
   "execution_count": 3,
   "metadata": {},
   "outputs": [],
   "source": [
    "def sumprod(l1,l2):\n",
    "    return sum([x*y for x,y in zip(*[l1,l2])])"
   ]
  },
  {
   "cell_type": "code",
   "execution_count": 8,
   "metadata": {},
   "outputs": [],
   "source": [
    "def cons_periodicflow_min(q):\n",
    "    \"\"\"\n",
    "    Constraint on minimum flow during the period\n",
    "    \n",
    "    ------------------------------------------------------------\n",
    "    \n",
    "    Parameters:\n",
    "    \n",
    "    q, array - quantity of water flown\n",
    "    \n",
    "    \"\"\"\n",
    "    \n",
    "    return q.sum()-qpmin\n",
    "\n",
    "def cons_periodicflow_max(q):\n",
    "    \"\"\"\n",
    "    Constraint on minimum flow during the period\n",
    "    \n",
    "    ------------------------------------------------------------\n",
    "    \n",
    "    Parameters:\n",
    "    \n",
    "    q, array - quantity of water flown\n",
    "    \n",
    "    \"\"\"\n",
    "    return qpmax - q.sum()\n",
    "\n",
    "def cons_daily_reservoir_max(q):\n",
    "    \"\"\"\n",
    "    Constraint on daily maximum water level in reservoir\n",
    "    \n",
    "    ------------------------------------------------------------\n",
    "    \n",
    "    Parameters:\n",
    "    \n",
    "    q, array - quantity of water flown\n",
    "    \n",
    "    \"\"\"\n",
    "    \n",
    "    return np.array([x0+np.sum(a[:t+1])-np.sum(q[:t+1]) +xmax[t] for t in range(0,T)])\n",
    "\n",
    "def cons_daily_reservoir_min(q):\n",
    "    \"\"\"\n",
    "    Constraint on daily minimum water level in reservoir\n",
    "    \n",
    "    ------------------------------------------------------------\n",
    "    \n",
    "    Parameters:\n",
    "    \n",
    "    q, array - quantity of water flown\n",
    "    \n",
    "    \"\"\"\n",
    "    \n",
    "    return np.array([x0+np.sum(a[:t+1])-np.sum(q[:t+1]) -xmin[t] for t in range(0,T)])\n",
    "\n",
    "con1 = {'type':'ineq','fun':cons_periodicflow_min}\n",
    "con2 = {'type':'ineq','fun':cons_periodicflow_max}\n",
    "con3 = {'type':'ineq','fun':cons_daily_reservoir_min}\n",
    "con4 = {'type':'ineq','fun':cons_daily_reservoir_max}\n",
    "\n",
    "cons=[con1,con2,con3,con4]\n"
   ]
  },
  {
   "cell_type": "code",
   "execution_count": 9,
   "metadata": {},
   "outputs": [],
   "source": [
    "# parameters\n",
    "a = [10 for i in range(50)]                          # inflows in the reservoir\n",
    "T = len(a)                                   # number of days\n",
    "q0 = np.zeros(T)                             # initial values for outflows\n",
    "s = np.array([10 for i in range(T)])         # spot price\n",
    "x0 = 100                                     # initial lvl of water in the reservoir\n",
    "x_max = 1000                                  # reservoir water capacity\n",
    "xmax = [x_max for i in range(T)]\n",
    "\n",
    "# constraints        \n",
    "qpmax = 150                                  # Max quantity of water flown out from the reservoir over the period\n",
    "qpmin = 0                                    # Min quantity of water flown out from the reservoir over the period\n",
    "xmin = [50 for i in range(T)]                # Daily minimum lvl of water in the reservoir\n",
    "\n",
    "# bounds                 \n",
    "qmin = [0 for i in range(T)]                 # daily minimum of water flown out from the reservoir\n",
    "qmax = [50 for i in range(T)]                # daily minimum of water flown out from the reservoir\n",
    "b = [(qmin[t],qmax[t]) for t in range(T)]    # bounds using the above"
   ]
  },
  {
   "cell_type": "code",
   "execution_count": 10,
   "metadata": {},
   "outputs": [
    {
     "name": "stdout",
     "output_type": "stream",
     "text": [
      "Payoff is : 1500.0\n",
      "Optimal trajectory is : [3.0, 3.0, 3.0, 3.0, 3.0, 3.0, 3.0, 3.0, 3.0, 3.0, 3.0, 3.0, 3.0, 3.0, 3.0, 3.0, 3.0, 3.0, 3.0, 3.0, 3.0, 3.0, 3.0, 3.0, 3.0, 3.0, 3.0, 3.0, 3.0, 3.0, 3.0, 3.0, 3.0, 3.0, 3.0, 3.0, 3.0, 3.0, 3.0, 3.0, 3.0, 3.0, 3.0, 3.0, 3.0, 3.0, 3.0, 3.0, 3.0, 3.0]\n"
     ]
    }
   ],
   "source": [
    "sol = sco.minimize(objective,q0,bounds=b,constraints=cons)\n",
    "print(\"Payoff is :\", -round(sol.fun,2))\n",
    "print(\"Optimal trajectory is :\", [round(q,2) for q in sol.x])"
   ]
  },
  {
   "cell_type": "code",
   "execution_count": 11,
   "metadata": {},
   "outputs": [
    {
     "name": "stdout",
     "output_type": "stream",
     "text": [
      "Payoff is : 1500.0\n",
      "Optimal trajectory is : [3.0, 3.0, 3.0, 3.0, 3.0, 3.0, 3.0, 3.0, 3.0, 3.0, 3.0, 3.0, 3.0, 3.0, 3.0, 3.0, 3.0, 3.0, 3.0, 3.0, 3.0, 3.0, 3.0, 3.0, 3.0, 3.0, 3.0, 3.0, 3.0, 3.0, 3.0, 3.0, 3.0, 3.0, 3.0, 3.0, 3.0, 3.0, 3.0, 3.0, 3.0, 3.0, 3.0, 3.0, 3.0, 3.0, 3.0, 3.0, 3.0, 3.0]\n"
     ]
    },
    {
     "data": {
      "text/plain": [
       "     fun: -1499.999999998901\n",
       "     jac: array([-10., -10., -10., -10., -10., -10., -10., -10., -10., -10., -10.,\n",
       "       -10., -10., -10., -10., -10., -10., -10., -10., -10., -10., -10.,\n",
       "       -10., -10., -10., -10., -10., -10., -10., -10., -10., -10., -10.,\n",
       "       -10., -10., -10., -10., -10., -10., -10., -10., -10., -10., -10.,\n",
       "       -10., -10., -10., -10., -10., -10.])\n",
       " message: 'Optimization terminated successfully.'\n",
       "    nfev: 104\n",
       "     nit: 2\n",
       "    njev: 2\n",
       "  status: 0\n",
       " success: True\n",
       "       x: array([3., 3., 3., 3., 3., 3., 3., 3., 3., 3., 3., 3., 3., 3., 3., 3., 3.,\n",
       "       3., 3., 3., 3., 3., 3., 3., 3., 3., 3., 3., 3., 3., 3., 3., 3., 3.,\n",
       "       3., 3., 3., 3., 3., 3., 3., 3., 3., 3., 3., 3., 3., 3., 3., 3.])"
      ]
     },
     "execution_count": 11,
     "metadata": {},
     "output_type": "execute_result"
    }
   ],
   "source": [
    "\n",
    "def HPP(q0,b,cons):\n",
    "    \"\"\"\n",
    "    Optimizes the Hydro Power Plant (HPP)\n",
    "    \n",
    "    \"\"\"\n",
    "    sol = sco.minimize(objective,q0,bounds=b,constraints=cons)\n",
    "    print(\"Payoff is :\", -round(sol.fun,2))\n",
    "    print(\"Optimal trajectory is :\", [round(q,2) for q in sol.x])\n",
    "    return sol\n",
    "\n",
    "HPP(q0,b,cons)"
   ]
  },
  {
   "cell_type": "code",
   "execution_count": 88,
   "metadata": {},
   "outputs": [
    {
     "data": {
      "text/plain": [
       "[0, 0, 0]"
      ]
     },
     "execution_count": 88,
     "metadata": {},
     "output_type": "execute_result"
    }
   ],
   "source": [
    "delta"
   ]
  },
  {
   "cell_type": "code",
   "execution_count": null,
   "metadata": {},
   "outputs": [],
   "source": []
  }
 ],
 "metadata": {
  "kernelspec": {
   "display_name": "Python 3",
   "language": "python",
   "name": "python3"
  },
  "language_info": {
   "codemirror_mode": {
    "name": "ipython",
    "version": 3
   },
   "file_extension": ".py",
   "mimetype": "text/x-python",
   "name": "python",
   "nbconvert_exporter": "python",
   "pygments_lexer": "ipython3",
   "version": "3.6.4"
  }
 },
 "nbformat": 4,
 "nbformat_minor": 2
}
